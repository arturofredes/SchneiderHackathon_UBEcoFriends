{
 "cells": [
  {
   "cell_type": "code",
   "execution_count": null,
   "metadata": {},
   "outputs": [],
   "source": [
    "import pandas as pd\n",
    "import os"
   ]
  },
  {
   "cell_type": "code",
   "execution_count": null,
   "metadata": {},
   "outputs": [],
   "source": [
    "def load_data(file_path):\n",
    "    # TODO: Load data from CSV file\n",
    "    df = pd.read_csv(file_path)\n",
    "    return df"
   ]
  },
  {
   "cell_type": "code",
   "execution_count": null,
   "metadata": {},
   "outputs": [],
   "source": [
    "def get_list_countries(data_folder='data'):\n",
    "\n",
    "    files = os.listdir(data_folder)\n",
    "    countries = []\n",
    "    for file_name in files:\n",
    "        if file_name.startswith('load'):\n",
    "            country = file_name.split('_')[1][:-4]\n",
    "            countries.append(country)\n",
    "    countries = list(set(countries))\n",
    "\n",
    "    return countries"
   ]
  },
  {
   "cell_type": "code",
   "execution_count": 37,
   "metadata": {},
   "outputs": [
    {
     "name": "stdout",
     "output_type": "stream",
     "text": [
      "['HU', 'NE', 'SE', 'UK', 'IT', 'PO', 'DK', 'SP', 'DE']\n"
     ]
    }
   ],
   "source": [
    "countries = get_list_countries()\n",
    "cn = countries[0]\n",
    "\n",
    "def get_generation_files(country, data_folder = 'data'):\n",
    "    files = os.listdir(data_folder)\n",
    "    gen_file_list = [file for file in files if file.startswith(f'gen_{country}')]\n",
    "    return gen_file_list\n",
    "\n",
    "# print(countries)\n",
    "generation_files = get_generation_files(cn)\n"
   ]
  },
  {
   "cell_type": "code",
   "execution_count": null,
   "metadata": {},
   "outputs": [],
   "source": [
    "def get_load_file(country, data_folder = 'data'):\n",
    "    files = os.listdir(data_folder)\n",
    "    for file in files:\n",
    "        if file.startswith(f'load_{country}'):\n",
    "            return file"
   ]
  },
  {
   "cell_type": "code",
   "execution_count": null,
   "metadata": {},
   "outputs": [],
   "source": [
    "load_file = get_load_file(cn)"
   ]
  },
  {
   "cell_type": "code",
   "execution_count": 53,
   "metadata": {},
   "outputs": [
    {
     "ename": "OSError",
     "evalue": "[WinError 123] El nombre de archivo, el nombre de directorio o la sintaxis de la etiqueta del volumen no son correctos: 'data\\raw_data'",
     "output_type": "error",
     "traceback": [
      "\u001b[1;31m---------------------------------------------------------------------------\u001b[0m",
      "\u001b[1;31mOSError\u001b[0m                                   Traceback (most recent call last)",
      "\u001b[1;32mc:\\Users\\adria\\Documents\\adriana\\FORMACION\\MASTER DATA SCIENCE UB\\Hackathon SE\\SchneiderHackathon_UBEcoFriends\\pruebas.ipynb Cell 7\u001b[0m line \u001b[0;36m4\n\u001b[0;32m      <a href='vscode-notebook-cell:/c%3A/Users/adria/Documents/adriana/FORMACION/MASTER%20DATA%20SCIENCE%20UB/Hackathon%20SE/SchneiderHackathon_UBEcoFriends/pruebas.ipynb#W6sZmlsZQ%3D%3D?line=0'>1</a>\u001b[0m data_folder \u001b[39m=\u001b[39m \u001b[39m'\u001b[39m\u001b[39mdata\u001b[39m\u001b[39m\\r\u001b[39;00m\u001b[39maw_data\u001b[39m\u001b[39m'\u001b[39m\n\u001b[1;32m----> <a href='vscode-notebook-cell:/c%3A/Users/adria/Documents/adriana/FORMACION/MASTER%20DATA%20SCIENCE%20UB/Hackathon%20SE/SchneiderHackathon_UBEcoFriends/pruebas.ipynb#W6sZmlsZQ%3D%3D?line=3'>4</a>\u001b[0m countries \u001b[39m=\u001b[39m get_list_countries(data_folder)\n\u001b[0;32m      <a href='vscode-notebook-cell:/c%3A/Users/adria/Documents/adriana/FORMACION/MASTER%20DATA%20SCIENCE%20UB/Hackathon%20SE/SchneiderHackathon_UBEcoFriends/pruebas.ipynb#W6sZmlsZQ%3D%3D?line=4'>5</a>\u001b[0m \u001b[39mprint\u001b[39m(countries)\n\u001b[0;32m      <a href='vscode-notebook-cell:/c%3A/Users/adria/Documents/adriana/FORMACION/MASTER%20DATA%20SCIENCE%20UB/Hackathon%20SE/SchneiderHackathon_UBEcoFriends/pruebas.ipynb#W6sZmlsZQ%3D%3D?line=6'>7</a>\u001b[0m \u001b[39mfor\u001b[39;00m i, country \u001b[39min\u001b[39;00m countries:\n",
      "\u001b[1;32mc:\\Users\\adria\\Documents\\adriana\\FORMACION\\MASTER DATA SCIENCE UB\\Hackathon SE\\SchneiderHackathon_UBEcoFriends\\pruebas.ipynb Cell 7\u001b[0m line \u001b[0;36m3\n\u001b[0;32m      <a href='vscode-notebook-cell:/c%3A/Users/adria/Documents/adriana/FORMACION/MASTER%20DATA%20SCIENCE%20UB/Hackathon%20SE/SchneiderHackathon_UBEcoFriends/pruebas.ipynb#W6sZmlsZQ%3D%3D?line=0'>1</a>\u001b[0m \u001b[39mdef\u001b[39;00m \u001b[39mget_list_countries\u001b[39m(data_folder\u001b[39m=\u001b[39m\u001b[39m'\u001b[39m\u001b[39mdata\u001b[39m\u001b[39m'\u001b[39m):\n\u001b[1;32m----> <a href='vscode-notebook-cell:/c%3A/Users/adria/Documents/adriana/FORMACION/MASTER%20DATA%20SCIENCE%20UB/Hackathon%20SE/SchneiderHackathon_UBEcoFriends/pruebas.ipynb#W6sZmlsZQ%3D%3D?line=2'>3</a>\u001b[0m     files \u001b[39m=\u001b[39m os\u001b[39m.\u001b[39;49mlistdir(data_folder)\n\u001b[0;32m      <a href='vscode-notebook-cell:/c%3A/Users/adria/Documents/adriana/FORMACION/MASTER%20DATA%20SCIENCE%20UB/Hackathon%20SE/SchneiderHackathon_UBEcoFriends/pruebas.ipynb#W6sZmlsZQ%3D%3D?line=3'>4</a>\u001b[0m     countries \u001b[39m=\u001b[39m []\n\u001b[0;32m      <a href='vscode-notebook-cell:/c%3A/Users/adria/Documents/adriana/FORMACION/MASTER%20DATA%20SCIENCE%20UB/Hackathon%20SE/SchneiderHackathon_UBEcoFriends/pruebas.ipynb#W6sZmlsZQ%3D%3D?line=4'>5</a>\u001b[0m     \u001b[39mfor\u001b[39;00m file_name \u001b[39min\u001b[39;00m files:\n",
      "\u001b[1;31mOSError\u001b[0m: [WinError 123] El nombre de archivo, el nombre de directorio o la sintaxis de la etiqueta del volumen no son correctos: 'data\\raw_data'"
     ]
    }
   ],
   "source": [
    "data_folder = 'data\\raw_data'\n",
    "\n",
    "\n",
    "countries = get_list_countries(data_folder)\n",
    "print(countries)\n",
    "\n",
    "for i, country in countries:\n",
    "    print(country)\n",
    "    load_file = get_load_file(country)\n",
    "    load_df = pd.read_csv(load_file)\n",
    "\n",
    "    df_country_combined = pd.DataFrame(columns = [\n",
    "        'StartTime','EndTime', 'AreaID', 'UnitName'\n",
    "    ])\n",
    "\n",
    "    # add each generation source\n",
    "    for i, file in enumerate(generation_files):\n",
    "        df = pd.read_csv(os.path.join(data_folder, file))\n",
    "        source_type = df['PsrType'][0]\n",
    "        # print(source_type)\n",
    "        df.rename(columns={'quantity': 'quantity_'+ source_type}, inplace=True)\n",
    "        df.drop(columns=['PsrType'], inplace=True)\n",
    "        if i == 0:\n",
    "            df_country_combined = df\n",
    "\n",
    "        else:\n",
    "            df_country_combined = pd.concat([df_country_combined, df['quantity_'+ source_type]], axis=1)\n",
    "\n",
    "    # Aggregate the quantity columns into a new column 'total_quantity'\n",
    "    df_country_combined['total_green_energy'] = df_country_combined.filter(like='quantity_').sum(axis=1)\n",
    "\n",
    "    # add load column from the load file\n",
    "    df_country_combined = pd.concat([df_country_combined, load_df['Load']], axis=1)\n",
    "\n",
    "    name_country_file = country + '_data' + '.csv'\n",
    "\n",
    "    # df_country_combined.to_csv(os.path.join('final_data', name_country_file), index=False)\n",
    "    break"
   ]
  },
  {
   "cell_type": "code",
   "execution_count": null,
   "metadata": {},
   "outputs": [],
   "source": [
    "df"
   ]
  },
  {
   "cell_type": "code",
   "execution_count": null,
   "metadata": {},
   "outputs": [],
   "source": []
  }
 ],
 "metadata": {
  "kernelspec": {
   "display_name": "Python 3",
   "language": "python",
   "name": "python3"
  },
  "language_info": {
   "codemirror_mode": {
    "name": "ipython",
    "version": 3
   },
   "file_extension": ".py",
   "mimetype": "text/x-python",
   "name": "python",
   "nbconvert_exporter": "python",
   "pygments_lexer": "ipython3",
   "version": "3.10.9"
  }
 },
 "nbformat": 4,
 "nbformat_minor": 2
}
